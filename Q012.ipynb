{
 "cells": [
  {
   "cell_type": "markdown",
   "metadata": {},
   "source": [
    "# Q012 Triangular Number with 500+ divisors\n",
    "\n",
    "Just get a prime factorizer and modify it to return the number of divisors (maybe dictionaries can help)\n",
    "Then just generate the triangular numbers till we done."
   ]
  },
  {
   "cell_type": "code",
   "execution_count": null,
   "metadata": {},
   "outputs": [],
   "source": [
    "def prime_factorization(x):\n",
    "  dict = {}\n",
    "  x_copy = x\n",
    "  check = 2\n",
    "  while x_copy != 1:\n",
    "    count = 0\n",
    "    while x_copy % check == 0:\n",
    "      count += 1\n",
    "      x_copy /= check\n",
    "    if count != 0:\n",
    "      dict[check] = count\n",
    "    check += 1\n",
    "  return dict"
   ]
  },
  {
   "cell_type": "code",
   "execution_count": null,
   "metadata": {},
   "outputs": [],
   "source": [
    "def divisor_count(x):\n",
    "  factorization = prime_factorization(x)\n",
    "  factorization = [factorization[a] for a in factorization]\n",
    "  count = 1\n",
    "  for x in factorization:\n",
    "    count *= (x+1)\n",
    "  return count"
   ]
  },
  {
   "cell_type": "code",
   "execution_count": 13,
   "metadata": {},
   "outputs": [
    {
     "name": "stdout",
     "output_type": "stream",
     "text": [
      "76576500.0\n"
     ]
    }
   ],
   "source": [
    "n = 1\n",
    "nth_triangular = 1\n",
    "nth_factors = 1\n",
    "\n",
    "while nth_factors <= 500:\n",
    "  n += 1\n",
    "  nth_triangular = n * (n+1) / 2\n",
    "  nth_factors = divisor_count(nth_triangular)\n",
    "print(nth_triangular)"
   ]
  }
 ],
 "metadata": {
  "kernelspec": {
   "display_name": "Python 3",
   "language": "python",
   "name": "python3"
  },
  "language_info": {
   "codemirror_mode": {
    "name": "ipython",
    "version": 3
   },
   "file_extension": ".py",
   "mimetype": "text/x-python",
   "name": "python",
   "nbconvert_exporter": "python",
   "pygments_lexer": "ipython3",
   "version": "3.10.11"
  },
  "orig_nbformat": 4
 },
 "nbformat": 4,
 "nbformat_minor": 2
}
