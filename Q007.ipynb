{
 "cells": [
  {
   "attachments": {},
   "cell_type": "markdown",
   "metadata": {},
   "source": [
    "# Q007 Find the (N)th Prime Number\n",
    "\n",
    "Ok, so... it would be cool to run a sort of Sieve of Erathosthanes Algorithm, but since we don't know where to end it has to be lazy in some capacity. So we should do something else thats similar.\n",
    "\n",
    "### Implementation\n",
    "We need a way to keep track of both the primes and how many we have checked so far.\n",
    "Then, for each next integer, we check it against the primes. If we get past sqrt(n), its a new prime. Otherwise one divisibility means it's not.\n",
    "Then have a variable to track the number of primes we have."
   ]
  },
  {
   "cell_type": "code",
   "execution_count": 18,
   "metadata": {},
   "outputs": [
    {
     "name": "stdout",
     "output_type": "stream",
     "text": [
      "0 10001 []\n"
     ]
    }
   ],
   "source": [
    "# Variables\n",
    "numPrimesSeen = 0\n",
    "DesiredPrimes = 10001\n",
    "currentInt = 2\n",
    "\n",
    "primes = []\n",
    "print(numPrimesSeen, DesiredPrimes, primes)"
   ]
  },
  {
   "cell_type": "code",
   "execution_count": 19,
   "metadata": {},
   "outputs": [],
   "source": [
    "# Let us know when something is prime\n",
    "def isPrime(n):\n",
    "  for p in primes:\n",
    "    if n == p:\n",
    "      return True # seen this one before\n",
    "    if n % p == 0:\n",
    "      return False # uh oh, divisible\n",
    "    if p ** 2 > n: \n",
    "      return True # same as p > sqrt(n), no match\n",
    "  return True\n"
   ]
  },
  {
   "cell_type": "code",
   "execution_count": null,
   "metadata": {},
   "outputs": [],
   "source": [
    "while numPrimesSeen < DesiredPrimes:\n",
    "    if isPrime(currentInt):\n",
    "        primes.append(currentInt)\n",
    "        numPrimesSeen += 1\n",
    "    currentInt += 1\n",
    "\n",
    "print(primes)\n",
    "print(primes[DesiredPrimes - 1])"
   ]
  }
 ],
 "metadata": {
  "kernelspec": {
   "display_name": "Python 3",
   "language": "python",
   "name": "python3"
  },
  "language_info": {
   "codemirror_mode": {
    "name": "ipython",
    "version": 3
   },
   "file_extension": ".py",
   "mimetype": "text/x-python",
   "name": "python",
   "nbconvert_exporter": "python",
   "pygments_lexer": "ipython3",
   "version": "3.10.11"
  },
  "orig_nbformat": 4
 },
 "nbformat": 4,
 "nbformat_minor": 2
}
